{
 "cells": [
  {
   "attachments": {},
   "cell_type": "markdown",
   "metadata": {},
   "source": [
    "# Hola! bienvenido modelo de clasificación no supervisado de nuestro grupo 14"
   ]
  },
  {
   "attachments": {},
   "cell_type": "markdown",
   "metadata": {},
   "source": [
    "### Aquí vas a encontrar la documentacióon de comó se realizó un modelo de clasificación no supervisado para determinar las ramas del Data Scientyst:"
   ]
  },
  {
   "attachments": {},
   "cell_type": "markdown",
   "metadata": {},
   "source": [
    "Primero importamos las librerias a utilizar, tanto para crear el modelo, limpiar los datasets, guardar el modelo y graficar el mismo para tener una perspectiva visual"
   ]
  },
  {
   "cell_type": "code",
   "execution_count": 27,
   "metadata": {},
   "outputs": [],
   "source": [
    "import pandas as pd\n",
    "import numpy as np\n",
    "import seaborn as sns\n",
    "import matplotlib.pyplot as plt\n",
    "import pickle\n",
    "from sklearn.manifold import TSNE\n",
    "from pypdf import PdfReader\n",
    "from sklearn.cluster import KMeans"
   ]
  },
  {
   "attachments": {},
   "cell_type": "markdown",
   "metadata": {},
   "source": [
    "#### 1) Estructura del modelo"
   ]
  },
  {
   "attachments": {},
   "cell_type": "markdown",
   "metadata": {},
   "source": [
    "Creando el modelo de clasificación sin supervisión"
   ]
  },
  {
   "attachments": {},
   "cell_type": "markdown",
   "metadata": {},
   "source": [
    "Un Data Scientyst se caracteriza por conocer y trabajar con diferentes herramientas, las cuales serán necesarias para luego clasificar la rama a cual seguir. En esta ocasión vamos a nombrar las herramientas más utilizadas:"
   ]
  },
  {
   "cell_type": "code",
   "execution_count": 28,
   "metadata": {},
   "outputs": [],
   "source": [
    "herramientas = ['python','excel','tableau','jupyter','matplotlib','machine learning','engineer','engineering''tensorflow',\n",
    " 'jupyter notebook','apache''power bi','sql','postgresql','mongodb','airflow','big query','hive','ingeniero software','science',\n",
    " 'scientists','scientific','scientist','analytics','analysis','analyst','datos','data','cloud','frameworks','numpy','pandas',\n",
    " 'etl','big data','hadoop','pipeline','dashboards', 'visualization', 'storytelling','deep learning','aws','azure']"
   ]
  },
  {
   "attachments": {},
   "cell_type": "markdown",
   "metadata": {},
   "source": [
    "Se transforma en un Dataframe para utilizarla después:"
   ]
  },
  {
   "cell_type": "code",
   "execution_count": 29,
   "metadata": {},
   "outputs": [],
   "source": [
    "df_herramientas = pd.DataFrame(columns=herramientas)"
   ]
  },
  {
   "cell_type": "code",
   "execution_count": 30,
   "metadata": {},
   "outputs": [
    {
     "data": {
      "text/html": [
       "<div>\n",
       "<style scoped>\n",
       "    .dataframe tbody tr th:only-of-type {\n",
       "        vertical-align: middle;\n",
       "    }\n",
       "\n",
       "    .dataframe tbody tr th {\n",
       "        vertical-align: top;\n",
       "    }\n",
       "\n",
       "    .dataframe thead th {\n",
       "        text-align: right;\n",
       "    }\n",
       "</style>\n",
       "<table border=\"1\" class=\"dataframe\">\n",
       "  <thead>\n",
       "    <tr style=\"text-align: right;\">\n",
       "      <th></th>\n",
       "      <th>python</th>\n",
       "      <th>excel</th>\n",
       "      <th>tableau</th>\n",
       "      <th>jupyter</th>\n",
       "      <th>matplotlib</th>\n",
       "      <th>machine learning</th>\n",
       "      <th>engineer</th>\n",
       "      <th>engineeringtensorflow</th>\n",
       "      <th>jupyter notebook</th>\n",
       "      <th>apachepower bi</th>\n",
       "      <th>...</th>\n",
       "      <th>etl</th>\n",
       "      <th>big data</th>\n",
       "      <th>hadoop</th>\n",
       "      <th>pipeline</th>\n",
       "      <th>dashboards</th>\n",
       "      <th>visualization</th>\n",
       "      <th>storytelling</th>\n",
       "      <th>deep learning</th>\n",
       "      <th>aws</th>\n",
       "      <th>azure</th>\n",
       "    </tr>\n",
       "  </thead>\n",
       "  <tbody>\n",
       "  </tbody>\n",
       "</table>\n",
       "<p>0 rows × 40 columns</p>\n",
       "</div>"
      ],
      "text/plain": [
       "Empty DataFrame\n",
       "Columns: [python, excel, tableau, jupyter, matplotlib, machine learning, engineer, engineeringtensorflow, jupyter notebook, apachepower bi, sql, postgresql, mongodb, airflow, big query, hive, ingeniero software, science, scientists, scientific, scientist, analytics, analysis, analyst, datos, data, cloud, frameworks, numpy, pandas, etl, big data, hadoop, pipeline, dashboards, visualization, storytelling, deep learning, aws, azure]\n",
       "Index: []\n",
       "\n",
       "[0 rows x 40 columns]"
      ]
     },
     "execution_count": 30,
     "metadata": {},
     "output_type": "execute_result"
    }
   ],
   "source": [
    "df_herramientas"
   ]
  },
  {
   "attachments": {},
   "cell_type": "markdown",
   "metadata": {},
   "source": [
    "#### 2) Agregando datos a entrenar"
   ]
  },
  {
   "attachments": {},
   "cell_type": "markdown",
   "metadata": {},
   "source": [
    "El conntenido del set de entrenamiento está conformado por la demanda de tecnologías que se requieren en cada puesto. Dicho esto, se realizó un trabajo de Web Scraping para tomar información de las tecnologías demandadas en America Latina = \"Datos.csv\""
   ]
  },
  {
   "cell_type": "code",
   "execution_count": 31,
   "metadata": {},
   "outputs": [],
   "source": [
    "df = pd.read_csv(\"Datos.csv\")"
   ]
  },
  {
   "attachments": {},
   "cell_type": "markdown",
   "metadata": {},
   "source": [
    "limpiando los valores nulos"
   ]
  },
  {
   "cell_type": "code",
   "execution_count": 32,
   "metadata": {},
   "outputs": [],
   "source": [
    "df = df[[\"DescripcionTrabajo\",\"PuestoTrabajo\"]]\n",
    "df = df.dropna()"
   ]
  },
  {
   "attachments": {},
   "cell_type": "markdown",
   "metadata": {},
   "source": [
    "vamos el contenido de la descripción del trabajo"
   ]
  },
  {
   "cell_type": "code",
   "execution_count": 33,
   "metadata": {},
   "outputs": [
    {
     "data": {
      "text/plain": [
       "' en baufest queremos mejorar la vida con tecnología, por lo que nos encontramos en la búsqueda de un data analyst para sumar a nuestro equipo con ganas de aprender las mejores prácticas y desempeñarse en un importante proyecto.responsabilidades • análisis y solución de incidentes.• análisis de procesos mediante consultas sql.• soporte a aplicaciones.• propuestas de mejoras a procesos y aplicaciones.requisitos principales • poseer al menos 1 año desarrollando con herramientas de etl y o de reporting.• experiencia en desarrollo de sentencias sql.• capacidad analítica.• capacidad de interactuar con usuarios finales.• experiencia en oracle.requisitos deseables • conocimiento en metodologías agiles.te ofrecemos • bau compensations  pago parcial de tu sueldo en dólares. ajustes trimestrales. evaluación anual de desempeño y revisión de categorización.• bau lunch  recibirás un cupón de pedidos ya cada viernes del mes.• bau internet  reintegro mensual parcial de tu factura.• bau anti-traffic  en caso de que tu contratación sea en modalidad híbrida, tendrás opción de elegir tu rango de horario laboral mientras lo avale el proyecto.• bau utlities  ¡luego de trabajar 4 años con la misma notebook en baufest, será tuya!• bau family  maternidad y paternidad. softlanding para las madres baufesianas y paternidad (10 días hábiles de licencia) . flexibilidad horaria planificada;• bau health  medicina prepaga de primer nivel para grupo familiar; reintegro trimestrales por actividad deportiva, clases de yoga y bienestar.• bau days  día de cumpleaños libre• bau academy  clases de inglés in-company; certificaciones y capacitaciones a cargo de baufest; pro profes (días extra de estudios, premios para estudiantes universitarios terciarios posgrados);• bau home  luego de 2 años en baufest, si tienes que cambiar tu residencia y mudarte recibirás una orden de compra para acompañarte en este gran paso.• excelente clima laboral ¡estamos dentro de ranking great place to work! '"
      ]
     },
     "execution_count": 33,
     "metadata": {},
     "output_type": "execute_result"
    }
   ],
   "source": [
    "df.DescripcionTrabajo[2].lower().replace(\"\\n\",\" \").replace(\":\",\" \").replace(\"/\",\" \")"
   ]
  },
  {
   "attachments": {},
   "cell_type": "markdown",
   "metadata": {},
   "source": [
    "Desde aquí vamos a realizar una comparación, la descripción del puesto con la lista de herramientas que usamos al comienzo. Para cada descripción, se agregará una fila, la misma solo tendrá valores \"1\" si encontró la cohincidencia o \"0\" en caso de no encontrarla."
   ]
  },
  {
   "cell_type": "code",
   "execution_count": 34,
   "metadata": {},
   "outputs": [],
   "source": [
    "indice = 0\n",
    "for descrip in df.DescripcionTrabajo:\n",
    "    fila = []\n",
    "    for i in herramientas:\n",
    "        if i in descrip.lower().replace(\"\\n\",\" \").replace(\":\",\" \").replace(\"/\",\" \"):\n",
    "            fila.append(1)\n",
    "        else: fila.append(0)\n",
    "    df_herramientas.loc[indice] = fila\n",
    "    indice+=1"
   ]
  },
  {
   "attachments": {},
   "cell_type": "markdown",
   "metadata": {},
   "source": [
    "El set de datos listo para entrenar quedaría así:"
   ]
  },
  {
   "cell_type": "code",
   "execution_count": 35,
   "metadata": {},
   "outputs": [
    {
     "data": {
      "text/html": [
       "<div>\n",
       "<style scoped>\n",
       "    .dataframe tbody tr th:only-of-type {\n",
       "        vertical-align: middle;\n",
       "    }\n",
       "\n",
       "    .dataframe tbody tr th {\n",
       "        vertical-align: top;\n",
       "    }\n",
       "\n",
       "    .dataframe thead th {\n",
       "        text-align: right;\n",
       "    }\n",
       "</style>\n",
       "<table border=\"1\" class=\"dataframe\">\n",
       "  <thead>\n",
       "    <tr style=\"text-align: right;\">\n",
       "      <th></th>\n",
       "      <th>python</th>\n",
       "      <th>excel</th>\n",
       "      <th>tableau</th>\n",
       "      <th>jupyter</th>\n",
       "      <th>matplotlib</th>\n",
       "      <th>machine learning</th>\n",
       "      <th>engineer</th>\n",
       "      <th>engineeringtensorflow</th>\n",
       "      <th>jupyter notebook</th>\n",
       "      <th>apachepower bi</th>\n",
       "      <th>...</th>\n",
       "      <th>etl</th>\n",
       "      <th>big data</th>\n",
       "      <th>hadoop</th>\n",
       "      <th>pipeline</th>\n",
       "      <th>dashboards</th>\n",
       "      <th>visualization</th>\n",
       "      <th>storytelling</th>\n",
       "      <th>deep learning</th>\n",
       "      <th>aws</th>\n",
       "      <th>azure</th>\n",
       "    </tr>\n",
       "  </thead>\n",
       "  <tbody>\n",
       "    <tr>\n",
       "      <th>0</th>\n",
       "      <td>0</td>\n",
       "      <td>0</td>\n",
       "      <td>0</td>\n",
       "      <td>0</td>\n",
       "      <td>0</td>\n",
       "      <td>0</td>\n",
       "      <td>0</td>\n",
       "      <td>0</td>\n",
       "      <td>0</td>\n",
       "      <td>0</td>\n",
       "      <td>...</td>\n",
       "      <td>0</td>\n",
       "      <td>0</td>\n",
       "      <td>0</td>\n",
       "      <td>0</td>\n",
       "      <td>1</td>\n",
       "      <td>0</td>\n",
       "      <td>0</td>\n",
       "      <td>0</td>\n",
       "      <td>0</td>\n",
       "      <td>0</td>\n",
       "    </tr>\n",
       "    <tr>\n",
       "      <th>1</th>\n",
       "      <td>0</td>\n",
       "      <td>0</td>\n",
       "      <td>0</td>\n",
       "      <td>0</td>\n",
       "      <td>0</td>\n",
       "      <td>0</td>\n",
       "      <td>0</td>\n",
       "      <td>0</td>\n",
       "      <td>0</td>\n",
       "      <td>0</td>\n",
       "      <td>...</td>\n",
       "      <td>1</td>\n",
       "      <td>1</td>\n",
       "      <td>0</td>\n",
       "      <td>0</td>\n",
       "      <td>1</td>\n",
       "      <td>1</td>\n",
       "      <td>0</td>\n",
       "      <td>0</td>\n",
       "      <td>0</td>\n",
       "      <td>0</td>\n",
       "    </tr>\n",
       "    <tr>\n",
       "      <th>2</th>\n",
       "      <td>0</td>\n",
       "      <td>1</td>\n",
       "      <td>0</td>\n",
       "      <td>0</td>\n",
       "      <td>0</td>\n",
       "      <td>0</td>\n",
       "      <td>0</td>\n",
       "      <td>0</td>\n",
       "      <td>0</td>\n",
       "      <td>0</td>\n",
       "      <td>...</td>\n",
       "      <td>1</td>\n",
       "      <td>0</td>\n",
       "      <td>0</td>\n",
       "      <td>0</td>\n",
       "      <td>0</td>\n",
       "      <td>0</td>\n",
       "      <td>0</td>\n",
       "      <td>0</td>\n",
       "      <td>0</td>\n",
       "      <td>0</td>\n",
       "    </tr>\n",
       "    <tr>\n",
       "      <th>3</th>\n",
       "      <td>0</td>\n",
       "      <td>1</td>\n",
       "      <td>0</td>\n",
       "      <td>0</td>\n",
       "      <td>0</td>\n",
       "      <td>0</td>\n",
       "      <td>0</td>\n",
       "      <td>0</td>\n",
       "      <td>0</td>\n",
       "      <td>0</td>\n",
       "      <td>...</td>\n",
       "      <td>0</td>\n",
       "      <td>0</td>\n",
       "      <td>0</td>\n",
       "      <td>0</td>\n",
       "      <td>0</td>\n",
       "      <td>0</td>\n",
       "      <td>0</td>\n",
       "      <td>0</td>\n",
       "      <td>0</td>\n",
       "      <td>0</td>\n",
       "    </tr>\n",
       "    <tr>\n",
       "      <th>4</th>\n",
       "      <td>1</td>\n",
       "      <td>0</td>\n",
       "      <td>1</td>\n",
       "      <td>0</td>\n",
       "      <td>0</td>\n",
       "      <td>0</td>\n",
       "      <td>0</td>\n",
       "      <td>0</td>\n",
       "      <td>0</td>\n",
       "      <td>0</td>\n",
       "      <td>...</td>\n",
       "      <td>0</td>\n",
       "      <td>0</td>\n",
       "      <td>0</td>\n",
       "      <td>0</td>\n",
       "      <td>0</td>\n",
       "      <td>0</td>\n",
       "      <td>0</td>\n",
       "      <td>0</td>\n",
       "      <td>0</td>\n",
       "      <td>0</td>\n",
       "    </tr>\n",
       "    <tr>\n",
       "      <th>...</th>\n",
       "      <td>...</td>\n",
       "      <td>...</td>\n",
       "      <td>...</td>\n",
       "      <td>...</td>\n",
       "      <td>...</td>\n",
       "      <td>...</td>\n",
       "      <td>...</td>\n",
       "      <td>...</td>\n",
       "      <td>...</td>\n",
       "      <td>...</td>\n",
       "      <td>...</td>\n",
       "      <td>...</td>\n",
       "      <td>...</td>\n",
       "      <td>...</td>\n",
       "      <td>...</td>\n",
       "      <td>...</td>\n",
       "      <td>...</td>\n",
       "      <td>...</td>\n",
       "      <td>...</td>\n",
       "      <td>...</td>\n",
       "      <td>...</td>\n",
       "    </tr>\n",
       "    <tr>\n",
       "      <th>8837</th>\n",
       "      <td>1</td>\n",
       "      <td>1</td>\n",
       "      <td>0</td>\n",
       "      <td>0</td>\n",
       "      <td>0</td>\n",
       "      <td>0</td>\n",
       "      <td>1</td>\n",
       "      <td>0</td>\n",
       "      <td>0</td>\n",
       "      <td>0</td>\n",
       "      <td>...</td>\n",
       "      <td>1</td>\n",
       "      <td>1</td>\n",
       "      <td>1</td>\n",
       "      <td>1</td>\n",
       "      <td>0</td>\n",
       "      <td>0</td>\n",
       "      <td>0</td>\n",
       "      <td>0</td>\n",
       "      <td>1</td>\n",
       "      <td>0</td>\n",
       "    </tr>\n",
       "    <tr>\n",
       "      <th>8838</th>\n",
       "      <td>0</td>\n",
       "      <td>0</td>\n",
       "      <td>0</td>\n",
       "      <td>0</td>\n",
       "      <td>0</td>\n",
       "      <td>0</td>\n",
       "      <td>0</td>\n",
       "      <td>0</td>\n",
       "      <td>0</td>\n",
       "      <td>0</td>\n",
       "      <td>...</td>\n",
       "      <td>0</td>\n",
       "      <td>0</td>\n",
       "      <td>0</td>\n",
       "      <td>0</td>\n",
       "      <td>0</td>\n",
       "      <td>0</td>\n",
       "      <td>0</td>\n",
       "      <td>0</td>\n",
       "      <td>0</td>\n",
       "      <td>1</td>\n",
       "    </tr>\n",
       "    <tr>\n",
       "      <th>8839</th>\n",
       "      <td>1</td>\n",
       "      <td>1</td>\n",
       "      <td>0</td>\n",
       "      <td>0</td>\n",
       "      <td>0</td>\n",
       "      <td>1</td>\n",
       "      <td>1</td>\n",
       "      <td>0</td>\n",
       "      <td>0</td>\n",
       "      <td>0</td>\n",
       "      <td>...</td>\n",
       "      <td>0</td>\n",
       "      <td>0</td>\n",
       "      <td>0</td>\n",
       "      <td>0</td>\n",
       "      <td>0</td>\n",
       "      <td>0</td>\n",
       "      <td>0</td>\n",
       "      <td>0</td>\n",
       "      <td>0</td>\n",
       "      <td>0</td>\n",
       "    </tr>\n",
       "    <tr>\n",
       "      <th>8840</th>\n",
       "      <td>0</td>\n",
       "      <td>0</td>\n",
       "      <td>0</td>\n",
       "      <td>0</td>\n",
       "      <td>0</td>\n",
       "      <td>0</td>\n",
       "      <td>0</td>\n",
       "      <td>0</td>\n",
       "      <td>0</td>\n",
       "      <td>0</td>\n",
       "      <td>...</td>\n",
       "      <td>0</td>\n",
       "      <td>0</td>\n",
       "      <td>0</td>\n",
       "      <td>0</td>\n",
       "      <td>0</td>\n",
       "      <td>0</td>\n",
       "      <td>0</td>\n",
       "      <td>0</td>\n",
       "      <td>0</td>\n",
       "      <td>0</td>\n",
       "    </tr>\n",
       "    <tr>\n",
       "      <th>8841</th>\n",
       "      <td>0</td>\n",
       "      <td>0</td>\n",
       "      <td>0</td>\n",
       "      <td>0</td>\n",
       "      <td>0</td>\n",
       "      <td>0</td>\n",
       "      <td>1</td>\n",
       "      <td>0</td>\n",
       "      <td>0</td>\n",
       "      <td>0</td>\n",
       "      <td>...</td>\n",
       "      <td>0</td>\n",
       "      <td>0</td>\n",
       "      <td>0</td>\n",
       "      <td>0</td>\n",
       "      <td>0</td>\n",
       "      <td>0</td>\n",
       "      <td>0</td>\n",
       "      <td>0</td>\n",
       "      <td>0</td>\n",
       "      <td>0</td>\n",
       "    </tr>\n",
       "  </tbody>\n",
       "</table>\n",
       "<p>8842 rows × 40 columns</p>\n",
       "</div>"
      ],
      "text/plain": [
       "      python  excel  tableau  jupyter  matplotlib  machine learning  engineer  \\\n",
       "0          0      0        0        0           0                 0         0   \n",
       "1          0      0        0        0           0                 0         0   \n",
       "2          0      1        0        0           0                 0         0   \n",
       "3          0      1        0        0           0                 0         0   \n",
       "4          1      0        1        0           0                 0         0   \n",
       "...      ...    ...      ...      ...         ...               ...       ...   \n",
       "8837       1      1        0        0           0                 0         1   \n",
       "8838       0      0        0        0           0                 0         0   \n",
       "8839       1      1        0        0           0                 1         1   \n",
       "8840       0      0        0        0           0                 0         0   \n",
       "8841       0      0        0        0           0                 0         1   \n",
       "\n",
       "      engineeringtensorflow  jupyter notebook  apachepower bi  ...  etl  \\\n",
       "0                         0                 0               0  ...    0   \n",
       "1                         0                 0               0  ...    1   \n",
       "2                         0                 0               0  ...    1   \n",
       "3                         0                 0               0  ...    0   \n",
       "4                         0                 0               0  ...    0   \n",
       "...                     ...               ...             ...  ...  ...   \n",
       "8837                      0                 0               0  ...    1   \n",
       "8838                      0                 0               0  ...    0   \n",
       "8839                      0                 0               0  ...    0   \n",
       "8840                      0                 0               0  ...    0   \n",
       "8841                      0                 0               0  ...    0   \n",
       "\n",
       "      big data  hadoop  pipeline  dashboards  visualization  storytelling  \\\n",
       "0            0       0         0           1              0             0   \n",
       "1            1       0         0           1              1             0   \n",
       "2            0       0         0           0              0             0   \n",
       "3            0       0         0           0              0             0   \n",
       "4            0       0         0           0              0             0   \n",
       "...        ...     ...       ...         ...            ...           ...   \n",
       "8837         1       1         1           0              0             0   \n",
       "8838         0       0         0           0              0             0   \n",
       "8839         0       0         0           0              0             0   \n",
       "8840         0       0         0           0              0             0   \n",
       "8841         0       0         0           0              0             0   \n",
       "\n",
       "      deep learning  aws  azure  \n",
       "0                 0    0      0  \n",
       "1                 0    0      0  \n",
       "2                 0    0      0  \n",
       "3                 0    0      0  \n",
       "4                 0    0      0  \n",
       "...             ...  ...    ...  \n",
       "8837              0    1      0  \n",
       "8838              0    0      1  \n",
       "8839              0    0      0  \n",
       "8840              0    0      0  \n",
       "8841              0    0      0  \n",
       "\n",
       "[8842 rows x 40 columns]"
      ]
     },
     "execution_count": 35,
     "metadata": {},
     "output_type": "execute_result"
    }
   ],
   "source": [
    "df_herramientas"
   ]
  },
  {
   "attachments": {},
   "cell_type": "markdown",
   "metadata": {},
   "source": [
    "#### 3) Entrenar el modelo"
   ]
  },
  {
   "attachments": {},
   "cell_type": "markdown",
   "metadata": {},
   "source": [
    "Hay diferentes modelos de clasificación no supervisada pero para nuestro objetivo, necesitamos agrupar de manera eficiente las tecnologías. Para esto, se eligió K-Means. Kmeans es uno de los algoritmos de agrupamiento más populares que divide los datos en k grupos basados en la similitud de sus características."
   ]
  },
  {
   "attachments": {},
   "cell_type": "markdown",
   "metadata": {},
   "source": [
    "agregamos nuestro objeto KMEANS"
   ]
  },
  {
   "cell_type": "code",
   "execution_count": 36,
   "metadata": {},
   "outputs": [],
   "source": [
    "kmeans = KMeans(n_clusters=3, random_state=11)"
   ]
  },
  {
   "attachments": {},
   "cell_type": "markdown",
   "metadata": {},
   "source": [
    "ponemos a entrenar con el set de datos:"
   ]
  },
  {
   "cell_type": "code",
   "execution_count": 37,
   "metadata": {},
   "outputs": [
    {
     "data": {
      "text/html": [
       "<style>#sk-container-id-2 {color: black;background-color: white;}#sk-container-id-2 pre{padding: 0;}#sk-container-id-2 div.sk-toggleable {background-color: white;}#sk-container-id-2 label.sk-toggleable__label {cursor: pointer;display: block;width: 100%;margin-bottom: 0;padding: 0.3em;box-sizing: border-box;text-align: center;}#sk-container-id-2 label.sk-toggleable__label-arrow:before {content: \"▸\";float: left;margin-right: 0.25em;color: #696969;}#sk-container-id-2 label.sk-toggleable__label-arrow:hover:before {color: black;}#sk-container-id-2 div.sk-estimator:hover label.sk-toggleable__label-arrow:before {color: black;}#sk-container-id-2 div.sk-toggleable__content {max-height: 0;max-width: 0;overflow: hidden;text-align: left;background-color: #f0f8ff;}#sk-container-id-2 div.sk-toggleable__content pre {margin: 0.2em;color: black;border-radius: 0.25em;background-color: #f0f8ff;}#sk-container-id-2 input.sk-toggleable__control:checked~div.sk-toggleable__content {max-height: 200px;max-width: 100%;overflow: auto;}#sk-container-id-2 input.sk-toggleable__control:checked~label.sk-toggleable__label-arrow:before {content: \"▾\";}#sk-container-id-2 div.sk-estimator input.sk-toggleable__control:checked~label.sk-toggleable__label {background-color: #d4ebff;}#sk-container-id-2 div.sk-label input.sk-toggleable__control:checked~label.sk-toggleable__label {background-color: #d4ebff;}#sk-container-id-2 input.sk-hidden--visually {border: 0;clip: rect(1px 1px 1px 1px);clip: rect(1px, 1px, 1px, 1px);height: 1px;margin: -1px;overflow: hidden;padding: 0;position: absolute;width: 1px;}#sk-container-id-2 div.sk-estimator {font-family: monospace;background-color: #f0f8ff;border: 1px dotted black;border-radius: 0.25em;box-sizing: border-box;margin-bottom: 0.5em;}#sk-container-id-2 div.sk-estimator:hover {background-color: #d4ebff;}#sk-container-id-2 div.sk-parallel-item::after {content: \"\";width: 100%;border-bottom: 1px solid gray;flex-grow: 1;}#sk-container-id-2 div.sk-label:hover label.sk-toggleable__label {background-color: #d4ebff;}#sk-container-id-2 div.sk-serial::before {content: \"\";position: absolute;border-left: 1px solid gray;box-sizing: border-box;top: 0;bottom: 0;left: 50%;z-index: 0;}#sk-container-id-2 div.sk-serial {display: flex;flex-direction: column;align-items: center;background-color: white;padding-right: 0.2em;padding-left: 0.2em;position: relative;}#sk-container-id-2 div.sk-item {position: relative;z-index: 1;}#sk-container-id-2 div.sk-parallel {display: flex;align-items: stretch;justify-content: center;background-color: white;position: relative;}#sk-container-id-2 div.sk-item::before, #sk-container-id-2 div.sk-parallel-item::before {content: \"\";position: absolute;border-left: 1px solid gray;box-sizing: border-box;top: 0;bottom: 0;left: 50%;z-index: -1;}#sk-container-id-2 div.sk-parallel-item {display: flex;flex-direction: column;z-index: 1;position: relative;background-color: white;}#sk-container-id-2 div.sk-parallel-item:first-child::after {align-self: flex-end;width: 50%;}#sk-container-id-2 div.sk-parallel-item:last-child::after {align-self: flex-start;width: 50%;}#sk-container-id-2 div.sk-parallel-item:only-child::after {width: 0;}#sk-container-id-2 div.sk-dashed-wrapped {border: 1px dashed gray;margin: 0 0.4em 0.5em 0.4em;box-sizing: border-box;padding-bottom: 0.4em;background-color: white;}#sk-container-id-2 div.sk-label label {font-family: monospace;font-weight: bold;display: inline-block;line-height: 1.2em;}#sk-container-id-2 div.sk-label-container {text-align: center;}#sk-container-id-2 div.sk-container {/* jupyter's `normalize.less` sets `[hidden] { display: none; }` but bootstrap.min.css set `[hidden] { display: none !important; }` so we also need the `!important` here to be able to override the default hidden behavior on the sphinx rendered scikit-learn.org. See: https://github.com/scikit-learn/scikit-learn/issues/21755 */display: inline-block !important;position: relative;}#sk-container-id-2 div.sk-text-repr-fallback {display: none;}</style><div id=\"sk-container-id-2\" class=\"sk-top-container\"><div class=\"sk-text-repr-fallback\"><pre>KMeans(n_clusters=3, random_state=11)</pre><b>In a Jupyter environment, please rerun this cell to show the HTML representation or trust the notebook. <br />On GitHub, the HTML representation is unable to render, please try loading this page with nbviewer.org.</b></div><div class=\"sk-container\" hidden><div class=\"sk-item\"><div class=\"sk-estimator sk-toggleable\"><input class=\"sk-toggleable__control sk-hidden--visually\" id=\"sk-estimator-id-2\" type=\"checkbox\" checked><label for=\"sk-estimator-id-2\" class=\"sk-toggleable__label sk-toggleable__label-arrow\">KMeans</label><div class=\"sk-toggleable__content\"><pre>KMeans(n_clusters=3, random_state=11)</pre></div></div></div></div></div>"
      ],
      "text/plain": [
       "KMeans(n_clusters=3, random_state=11)"
      ]
     },
     "execution_count": 37,
     "metadata": {},
     "output_type": "execute_result"
    }
   ],
   "source": [
    "kmeans.fit(df_herramientas.values)"
   ]
  },
  {
   "attachments": {},
   "cell_type": "markdown",
   "metadata": {},
   "source": [
    "Entreno! Ahora los datos quedan guardaos entre 0 1 y 2. Con la funcion Labels_ podemos ver los resultados"
   ]
  },
  {
   "cell_type": "code",
   "execution_count": 38,
   "metadata": {},
   "outputs": [
    {
     "data": {
      "text/plain": [
       "array([1, 1, 1, ..., 0, 1, 0])"
      ]
     },
     "execution_count": 38,
     "metadata": {},
     "output_type": "execute_result"
    }
   ],
   "source": [
    "kmeans.labels_"
   ]
  },
  {
   "attachments": {},
   "cell_type": "markdown",
   "metadata": {},
   "source": [
    "Para resumir... El modelo ya entreno y clasifico. Ahora en el array se encuetran los valores \" 0 - 1 - 2 \", estos son los resultados de la clasificación pero necesitamos averiguar que son estos valores:"
   ]
  },
  {
   "attachments": {},
   "cell_type": "markdown",
   "metadata": {},
   "source": [
    "#### 4) Cambio de variables"
   ]
  },
  {
   "attachments": {},
   "cell_type": "markdown",
   "metadata": {},
   "source": [
    "Para determinarlo, sabemos que no todas las ofertas laborales están equivocadas, por esto, es que vamos a comparar con los valores principales así saber si tienen relación entre ellas."
   ]
  },
  {
   "attachments": {},
   "cell_type": "markdown",
   "metadata": {},
   "source": [
    "csv original:"
   ]
  },
  {
   "cell_type": "code",
   "execution_count": 39,
   "metadata": {},
   "outputs": [],
   "source": [
    "df = pd.read_csv(\"Datos.csv\")\n",
    "df = df[[\"DescripcionTrabajo\",\"PuestoTrabajo\"]]\n",
    "df = df.dropna()\n",
    "df[\"kmeans\"] = kmeans.labels_"
   ]
  },
  {
   "attachments": {},
   "cell_type": "markdown",
   "metadata": {},
   "source": [
    "orden y cantidad de \"Puestos de Trabajo\""
   ]
  },
  {
   "cell_type": "code",
   "execution_count": 40,
   "metadata": {},
   "outputs": [
    {
     "data": {
      "text/plain": [
       "data analyst      3631\n",
       "data engineer     2756\n",
       "data scientist    2455\n",
       "Name: PuestoTrabajo, dtype: int64"
      ]
     },
     "execution_count": 40,
     "metadata": {},
     "output_type": "execute_result"
    }
   ],
   "source": [
    "df.PuestoTrabajo.value_counts()"
   ]
  },
  {
   "attachments": {},
   "cell_type": "markdown",
   "metadata": {},
   "source": [
    "orden y cantidad de \"kmeans\""
   ]
  },
  {
   "cell_type": "code",
   "execution_count": 41,
   "metadata": {},
   "outputs": [
    {
     "data": {
      "text/plain": [
       "1    3467\n",
       "0    2882\n",
       "2    2493\n",
       "Name: kmeans, dtype: int64"
      ]
     },
     "execution_count": 41,
     "metadata": {},
     "output_type": "execute_result"
    }
   ],
   "source": [
    "df.kmeans.value_counts()"
   ]
  },
  {
   "attachments": {},
   "cell_type": "markdown",
   "metadata": {},
   "source": [
    "Tal como vemos, los valores son muy aproximados, por esto se tomarán como valores para data analyst = 1, data engineer = 0 y data science = 2 "
   ]
  },
  {
   "attachments": {},
   "cell_type": "markdown",
   "metadata": {},
   "source": [
    "#### 5) Graficar el modelo con TSNE y Seaborn"
   ]
  },
  {
   "attachments": {},
   "cell_type": "markdown",
   "metadata": {},
   "source": [
    "Aquí para realizar una visualización de los datos, podemos acudir a TSNE (t-Distributed Stochastic Neighbor Embedding) es una técnica de visualización de datos que permite reducir la dimensionalidad de los datos(en nuestro caso el DataFrame completo) y representarlos en un espacio de dos o tres dimensiones para su visualización."
   ]
  },
  {
   "attachments": {},
   "cell_type": "markdown",
   "metadata": {},
   "source": [
    "creamos el objeto"
   ]
  },
  {
   "cell_type": "code",
   "execution_count": 42,
   "metadata": {},
   "outputs": [],
   "source": [
    "tsne = TSNE(n_components=2, random_state=1)"
   ]
  },
  {
   "attachments": {},
   "cell_type": "markdown",
   "metadata": {},
   "source": [
    "entrenamos con el set de datos de df_herramientas"
   ]
  },
  {
   "cell_type": "code",
   "execution_count": 43,
   "metadata": {},
   "outputs": [
    {
     "name": "stderr",
     "output_type": "stream",
     "text": [
      "C:\\Users\\lopez\\AppData\\Local\\Packages\\PythonSoftwareFoundation.Python.3.10_qbz5n2kfra8p0\\LocalCache\\local-packages\\Python310\\site-packages\\sklearn\\manifold\\_t_sne.py:800: FutureWarning: The default initialization in TSNE will change from 'random' to 'pca' in 1.2.\n",
      "  warnings.warn(\n",
      "C:\\Users\\lopez\\AppData\\Local\\Packages\\PythonSoftwareFoundation.Python.3.10_qbz5n2kfra8p0\\LocalCache\\local-packages\\Python310\\site-packages\\sklearn\\manifold\\_t_sne.py:810: FutureWarning: The default learning rate in TSNE will change from 200.0 to 'auto' in 1.2.\n",
      "  warnings.warn(\n"
     ]
    }
   ],
   "source": [
    "tsne = tsne.fit_transform(df_herramientas)"
   ]
  },
  {
   "cell_type": "code",
   "execution_count": 44,
   "metadata": {},
   "outputs": [
    {
     "data": {
      "text/plain": [
       "(8842, 2)"
      ]
     },
     "execution_count": 44,
     "metadata": {},
     "output_type": "execute_result"
    }
   ],
   "source": [
    "tsne.shape"
   ]
  },
  {
   "attachments": {},
   "cell_type": "markdown",
   "metadata": {},
   "source": [
    "Y listo! ya tenemos todas las filas en dos dimensiones para graficar"
   ]
  },
  {
   "attachments": {},
   "cell_type": "markdown",
   "metadata": {},
   "source": [
    "Por ultimo, vamos a agregar los valores de Kmeans.labels_ para utilizarlos dentro del \"Hue\" así pueda identificar los valores dados"
   ]
  },
  {
   "cell_type": "code",
   "execution_count": 45,
   "metadata": {},
   "outputs": [],
   "source": [
    "tsne = pd.DataFrame(data= tsne ,columns=[\"componente1\",\"componente2\"])\n",
    "tsne[\"kmeans\"] = kmeans.labels_"
   ]
  },
  {
   "attachments": {},
   "cell_type": "markdown",
   "metadata": {},
   "source": [
    "Así es como quedó"
   ]
  },
  {
   "cell_type": "code",
   "execution_count": 46,
   "metadata": {},
   "outputs": [
    {
     "data": {
      "text/html": [
       "<div>\n",
       "<style scoped>\n",
       "    .dataframe tbody tr th:only-of-type {\n",
       "        vertical-align: middle;\n",
       "    }\n",
       "\n",
       "    .dataframe tbody tr th {\n",
       "        vertical-align: top;\n",
       "    }\n",
       "\n",
       "    .dataframe thead th {\n",
       "        text-align: right;\n",
       "    }\n",
       "</style>\n",
       "<table border=\"1\" class=\"dataframe\">\n",
       "  <thead>\n",
       "    <tr style=\"text-align: right;\">\n",
       "      <th></th>\n",
       "      <th>componente1</th>\n",
       "      <th>componente2</th>\n",
       "      <th>kmeans</th>\n",
       "    </tr>\n",
       "  </thead>\n",
       "  <tbody>\n",
       "    <tr>\n",
       "      <th>0</th>\n",
       "      <td>17.086187</td>\n",
       "      <td>25.575987</td>\n",
       "      <td>1</td>\n",
       "    </tr>\n",
       "    <tr>\n",
       "      <th>1</th>\n",
       "      <td>-7.381012</td>\n",
       "      <td>19.311441</td>\n",
       "      <td>1</td>\n",
       "    </tr>\n",
       "    <tr>\n",
       "      <th>2</th>\n",
       "      <td>-0.623913</td>\n",
       "      <td>29.549370</td>\n",
       "      <td>1</td>\n",
       "    </tr>\n",
       "    <tr>\n",
       "      <th>3</th>\n",
       "      <td>19.165710</td>\n",
       "      <td>13.161137</td>\n",
       "      <td>1</td>\n",
       "    </tr>\n",
       "    <tr>\n",
       "      <th>4</th>\n",
       "      <td>-4.916607</td>\n",
       "      <td>56.574741</td>\n",
       "      <td>1</td>\n",
       "    </tr>\n",
       "    <tr>\n",
       "      <th>...</th>\n",
       "      <td>...</td>\n",
       "      <td>...</td>\n",
       "      <td>...</td>\n",
       "    </tr>\n",
       "    <tr>\n",
       "      <th>8837</th>\n",
       "      <td>-64.009315</td>\n",
       "      <td>10.486632</td>\n",
       "      <td>2</td>\n",
       "    </tr>\n",
       "    <tr>\n",
       "      <th>8838</th>\n",
       "      <td>61.522633</td>\n",
       "      <td>-5.593421</td>\n",
       "      <td>1</td>\n",
       "    </tr>\n",
       "    <tr>\n",
       "      <th>8839</th>\n",
       "      <td>-47.603405</td>\n",
       "      <td>-53.906738</td>\n",
       "      <td>0</td>\n",
       "    </tr>\n",
       "    <tr>\n",
       "      <th>8840</th>\n",
       "      <td>32.091785</td>\n",
       "      <td>72.622589</td>\n",
       "      <td>1</td>\n",
       "    </tr>\n",
       "    <tr>\n",
       "      <th>8841</th>\n",
       "      <td>36.553661</td>\n",
       "      <td>-54.156307</td>\n",
       "      <td>0</td>\n",
       "    </tr>\n",
       "  </tbody>\n",
       "</table>\n",
       "<p>8842 rows × 3 columns</p>\n",
       "</div>"
      ],
      "text/plain": [
       "      componente1  componente2  kmeans\n",
       "0       17.086187    25.575987       1\n",
       "1       -7.381012    19.311441       1\n",
       "2       -0.623913    29.549370       1\n",
       "3       19.165710    13.161137       1\n",
       "4       -4.916607    56.574741       1\n",
       "...           ...          ...     ...\n",
       "8837   -64.009315    10.486632       2\n",
       "8838    61.522633    -5.593421       1\n",
       "8839   -47.603405   -53.906738       0\n",
       "8840    32.091785    72.622589       1\n",
       "8841    36.553661   -54.156307       0\n",
       "\n",
       "[8842 rows x 3 columns]"
      ]
     },
     "execution_count": 46,
     "metadata": {},
     "output_type": "execute_result"
    }
   ],
   "source": [
    "tsne"
   ]
  },
  {
   "attachments": {},
   "cell_type": "markdown",
   "metadata": {},
   "source": [
    "Ahora con el cambio de variables aplicado"
   ]
  },
  {
   "cell_type": "code",
   "execution_count": 47,
   "metadata": {},
   "outputs": [
    {
     "data": {
      "text/html": [
       "<div>\n",
       "<style scoped>\n",
       "    .dataframe tbody tr th:only-of-type {\n",
       "        vertical-align: middle;\n",
       "    }\n",
       "\n",
       "    .dataframe tbody tr th {\n",
       "        vertical-align: top;\n",
       "    }\n",
       "\n",
       "    .dataframe thead th {\n",
       "        text-align: right;\n",
       "    }\n",
       "</style>\n",
       "<table border=\"1\" class=\"dataframe\">\n",
       "  <thead>\n",
       "    <tr style=\"text-align: right;\">\n",
       "      <th></th>\n",
       "      <th>componente1</th>\n",
       "      <th>componente2</th>\n",
       "      <th>kmeans</th>\n",
       "    </tr>\n",
       "  </thead>\n",
       "  <tbody>\n",
       "    <tr>\n",
       "      <th>0</th>\n",
       "      <td>17.086187</td>\n",
       "      <td>25.575987</td>\n",
       "      <td>Data Analyst</td>\n",
       "    </tr>\n",
       "    <tr>\n",
       "      <th>1</th>\n",
       "      <td>-7.381012</td>\n",
       "      <td>19.311441</td>\n",
       "      <td>Data Analyst</td>\n",
       "    </tr>\n",
       "    <tr>\n",
       "      <th>2</th>\n",
       "      <td>-0.623913</td>\n",
       "      <td>29.549370</td>\n",
       "      <td>Data Analyst</td>\n",
       "    </tr>\n",
       "    <tr>\n",
       "      <th>3</th>\n",
       "      <td>19.165710</td>\n",
       "      <td>13.161137</td>\n",
       "      <td>Data Analyst</td>\n",
       "    </tr>\n",
       "    <tr>\n",
       "      <th>4</th>\n",
       "      <td>-4.916607</td>\n",
       "      <td>56.574741</td>\n",
       "      <td>Data Analyst</td>\n",
       "    </tr>\n",
       "    <tr>\n",
       "      <th>...</th>\n",
       "      <td>...</td>\n",
       "      <td>...</td>\n",
       "      <td>...</td>\n",
       "    </tr>\n",
       "    <tr>\n",
       "      <th>8837</th>\n",
       "      <td>-64.009315</td>\n",
       "      <td>10.486632</td>\n",
       "      <td>Data Science</td>\n",
       "    </tr>\n",
       "    <tr>\n",
       "      <th>8838</th>\n",
       "      <td>61.522633</td>\n",
       "      <td>-5.593421</td>\n",
       "      <td>Data Analyst</td>\n",
       "    </tr>\n",
       "    <tr>\n",
       "      <th>8839</th>\n",
       "      <td>-47.603405</td>\n",
       "      <td>-53.906738</td>\n",
       "      <td>Data Engineer</td>\n",
       "    </tr>\n",
       "    <tr>\n",
       "      <th>8840</th>\n",
       "      <td>32.091785</td>\n",
       "      <td>72.622589</td>\n",
       "      <td>Data Analyst</td>\n",
       "    </tr>\n",
       "    <tr>\n",
       "      <th>8841</th>\n",
       "      <td>36.553661</td>\n",
       "      <td>-54.156307</td>\n",
       "      <td>Data Engineer</td>\n",
       "    </tr>\n",
       "  </tbody>\n",
       "</table>\n",
       "<p>8842 rows × 3 columns</p>\n",
       "</div>"
      ],
      "text/plain": [
       "      componente1  componente2         kmeans\n",
       "0       17.086187    25.575987   Data Analyst\n",
       "1       -7.381012    19.311441   Data Analyst\n",
       "2       -0.623913    29.549370   Data Analyst\n",
       "3       19.165710    13.161137   Data Analyst\n",
       "4       -4.916607    56.574741   Data Analyst\n",
       "...           ...          ...            ...\n",
       "8837   -64.009315    10.486632   Data Science\n",
       "8838    61.522633    -5.593421   Data Analyst\n",
       "8839   -47.603405   -53.906738  Data Engineer\n",
       "8840    32.091785    72.622589   Data Analyst\n",
       "8841    36.553661   -54.156307  Data Engineer\n",
       "\n",
       "[8842 rows x 3 columns]"
      ]
     },
     "execution_count": 47,
     "metadata": {},
     "output_type": "execute_result"
    }
   ],
   "source": [
    "tsne.kmeans = tsne.kmeans.replace(0,\"Data Engineer\").replace(1,\"Data Analyst\").replace(2,\"Data Science\")\n",
    "tsne"
   ]
  },
  {
   "attachments": {},
   "cell_type": "markdown",
   "metadata": {},
   "source": [
    "La grafica se realiza con la librería Seaborn"
   ]
  },
  {
   "cell_type": "code",
   "execution_count": 48,
   "metadata": {},
   "outputs": [
    {
     "data": {
      "text/plain": [
       "<AxesSubplot: xlabel='componente1', ylabel='componente2'>"
      ]
     },
     "execution_count": 48,
     "metadata": {},
     "output_type": "execute_result"
    },
    {
     "data": {
      "image/png": "[encoded data removed]",
      "text/plain": [
       "<Figure size 640x480 with 1 Axes>"
      ]
     },
     "metadata": {},
     "output_type": "display_data"
    }
   ],
   "source": [
    "sns.scatterplot(x='componente1', y='componente2', data = tsne ,hue=\"kmeans\", palette=\"cool\")"
   ]
  },
  {
   "attachments": {},
   "cell_type": "markdown",
   "metadata": {},
   "source": [
    "#### 6) Exportar el modelo"
   ]
  },
  {
   "attachments": {},
   "cell_type": "markdown",
   "metadata": {},
   "source": [
    "El modelo funcionó correctamente, solo queda guardarlo para utilizarlo luego"
   ]
  },
  {
   "cell_type": "code",
   "execution_count": 49,
   "metadata": {},
   "outputs": [],
   "source": [
    "pkl_data_entrenado = \"clasificacion_areas_del_data.pkl\"\n",
    "with open(pkl_data_entrenado, 'wb') as file:\n",
    "    pickle.dump(kmeans,file)"
   ]
  },
  {
   "attachments": {},
   "cell_type": "markdown",
   "metadata": {},
   "source": [
    "#### 7) Funciones para utilizar en la Web, agregando un archivo PDF o CSV"
   ]
  },
  {
   "attachments": {},
   "cell_type": "markdown",
   "metadata": {},
   "source": [
    "El modelo funciona para recibir PDF que pueden ser curriculums o un set de datos en formato CSV"
   ]
  },
  {
   "attachments": {},
   "cell_type": "markdown",
   "metadata": {},
   "source": [
    "cuando ingresa un pdf:"
   ]
  },
  {
   "cell_type": "code",
   "execution_count": 50,
   "metadata": {},
   "outputs": [],
   "source": [
    "def arhivo_pdf(archivo):\n",
    "    pdf = PdfReader(archivo)                # lee pdf\n",
    "    numeropaginas = len(pdf.pages)          # cuenta las paginas\n",
    "\n",
    "    text = ''\n",
    "    for i in range(numeropaginas):          # utiliza un bucle para guardar todo el texto del PDF\n",
    "        pagina = pdf.pages[i] \n",
    "        text = text + pagina.extract_text() \n",
    "    text = text.lower().replace(\"\\n\",\" \").replace(\":\",\" \").replace(\"\\xa0\",\" \")\n",
    "\n",
    "\n",
    "    fila = []                   # una vez con el texto completo, buscamos las herramientas en el documento y guardamos en \"fila\"\n",
    "    for i in herramientas:\n",
    "        if i in text:\n",
    "            fila.append(1)      # 1 de haberlo encontrado\n",
    "        else: fila.append(0)    # 0 en caso de que no lo encuentre\n",
    "\n",
    "\n",
    "    text = np.asarray(fila).reshape(1,-1)       # transformamos para evaluar kmeans\n",
    "    preds=kmeans.predict(text)                  # consultamos el valor\n",
    "    if preds[0] == 0: preds = \"Data Engineer\"   # dependiendo el valor se asignará su respuesta\n",
    "    if preds[0] == 1: preds = \"Data Analyst\"\n",
    "    if preds[0] == 2: preds = \"Data Science\"\n",
    "\n",
    "    return preds    #resultado"
   ]
  },
  {
   "attachments": {},
   "cell_type": "markdown",
   "metadata": {},
   "source": [
    "cuando se ingresa un csv:"
   ]
  },
  {
   "cell_type": "code",
   "execution_count": 51,
   "metadata": {},
   "outputs": [],
   "source": [
    "def importar_csv(csv):\n",
    "    df = pd.read_csv(csv)       # leemos el csv\n",
    "    descripcion = df.columns[0] # indicamos la columna a usar\n",
    "    df = df[[descripcion]]      \n",
    "    df = df.head().dropna()     # eliminamos nulos\n",
    "    df[\"kmeans\"] = \"\"           # creamos una columna para agregar los valores luego\n",
    "    df              # df limpio\n",
    "\n",
    "    indice = 0\n",
    "    for descrip in df[descripcion]:     # en este bucle buscamos entre cada fila las cohincidencias\n",
    "        fila = []                       # guardamos en fila\n",
    "        for i in herramientas:\n",
    "            if i in descrip.lower():fila.append(1)  # 1 si encontró el valor\n",
    "            else: fila.append(0)                    # 0 no lo encontró\n",
    "\n",
    "        fila= np.asarray(fila).reshape(1,-1)    # transformar la fila para evaluar\n",
    "        preds=kmeans.predict(fila)              # kmeans evalúa el resultado\n",
    "\n",
    "\n",
    "        if preds[0] == 0: preds = \"Data Engineer\"   #indica el resultado dependiendo el valor\n",
    "        if preds[0] == 1: preds = \"Data Analyst\"\n",
    "        if preds[0] == 2: preds = \"Data Science\"\n",
    "        \n",
    "        df[\"kmeans\"].loc[indice] = preds[0]     #lo guarda en el DataFrame con su respectiva fila\n",
    "        indice+=1\n",
    "\n",
    "    return df   #muestra el DataFrame terminado"
   ]
  }
 ],
 "metadata": {
  "kernelspec": {
   "display_name": "Python 3",
   "language": "python",
   "name": "python3"
  },
  "language_info": {
   "codemirror_mode": {
    "name": "ipython",
    "version": 3
   },
   "file_extension": ".py",
   "mimetype": "text/x-python",
   "name": "python",
   "nbconvert_exporter": "python",
   "pygments_lexer": "ipython3",
   "version": "3.10.9"
  },
  "orig_nbformat": 4,
  "vscode": {
   "interpreter": {
    "hash": "24cb59c2cc197bd1f2722fa439534c4fa24671147bf227b67ac67c1d0468d56f"
   }
  }
 },
 "nbformat": 4,
 "nbformat_minor": 2
}
