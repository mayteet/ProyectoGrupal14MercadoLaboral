{
 "cells": [
  {
   "attachments": {},
   "cell_type": "markdown",
   "metadata": {},
   "source": [
    "# ***Data Dictionary*** "
   ]
  },
  {
   "attachments": {},
   "cell_type": "markdown",
   "metadata": {},
   "source": [
    "#### **Salary_final**\n",
    "- **payPeriod :** - object: Periodo de tiempo en el que se midio el salario\n",
    "- **jobTitle :** - object: Titulo del perfil profesional\n",
    "- **payMin :** - float64: el 10% inferior de los sueldos de los trabajadores con ese trabajo \n",
    "- **payHigh :** - float64: el 10% superior de los sueldos de los trabajadores con ese trabajo\n",
    "- **payMedium :** - float64: el promedio de sueldo de la mediana de los trabajadores con ese trabajo"
   ]
  },
  {
   "attachments": {},
   "cell_type": "markdown",
   "metadata": {},
   "source": [
    "#### **countries**\n",
    " - **Country:** - float64: Nombre del país\n",
    " - **country_code:** - object: código del país"
   ]
  },
  {
   "attachments": {},
   "cell_type": "markdown",
   "metadata": {},
   "source": [
    "#### **currency_final**\n",
    "\n",
    "- **Country :** - object: Nombre del país\n",
    "- **Currency :**  - object: El nombre de la moneda del país\n",
    "- **ExchangeRate :** - float64: Es la tasa de cambio de la moneda respecto al dólar estadounidense."
   ]
  },
  {
   "attachments": {},
   "cell_type": "markdown",
   "metadata": {},
   "source": [
    "#### **perks_global**\n",
    "- **perks :** - object: Nombre del beneficio\n",
    "- **enterprise :** - object: Nombre de la empresa"
   ]
  },
  {
   "attachments": {},
   "cell_type": "markdown",
   "metadata": {},
   "source": [
    "#### **review_final**\n",
    "##### - **enterprise :** nombre de empresa\n",
    "##### - **rateCareerOpportunities :** - float64: puntaje en \"oportunidades profesionales\" que brinda la empresa.\n",
    "##### - **rateCompensation_Benefits :** - float64: puntaje en \"beneficios y compensaciones\" que brinda la empresa.\n",
    "##### - **rateCultureValues :** - float64: puntaje en \"cultura y valores\" de la empresa.\n",
    "##### - **rateGeneralView :** - float64: puntaje general sobre la empresa.\n",
    "##### - **rateOpinionAboutManagement :** - float64: puntaje sobre la gerencia de la empresa.\n",
    "##### - **rateWorklifeBalance :** - float64: puntaje sobre el equilibrio entre vida y trabajo.\n",
    "##### - **rateCeoApproval :** - float64: puntaje en la aprobación del CEO.\n",
    "##### - **ratePositiveBusinessView :** - float64: puntaje positivo sobre el panorama de la empresa.\n",
    "##### - **rateRecommendToFriend :** - float64: puntaje sobre recomendación de la empresa como lugar de trabajo."
   ]
  },
  {
   "attachments": {},
   "cell_type": "markdown",
   "metadata": {},
   "source": [
    "#### **review_feeling**\n",
    "##### - **reviews.val.cons** - object: reseña negativa sobre la empresa.\n",
    "##### - **reviews.val.pros** - object: reseña positiva sobre la empresa.\n",
    "##### - **reviews.val.reviewerJobTitle** - object: puesto de trabajo del empleado que escribe la reseña."
   ]
  },
  {
   "attachments": {},
   "cell_type": "markdown",
   "metadata": {},
   "source": [
    "#### **jobOffer**\n",
    "##### - **salaryHigh :** - float64: Sueldo más alto\n",
    "##### - **payMed :** - float64: Sueldo promedio\n",
    "##### - **salaryLow :** - float64: Sueldo más bajo\n",
    "##### - **jobTitle :** - object: Título del perfil profesional\n",
    "##### - **enterprise :** - object: nombre de la empresa\n",
    "##### - **date :** - object: fecha de la oferta de trabajo\n"
   ]
  },
  {
   "attachments": {},
   "cell_type": "markdown",
   "metadata": {},
   "source": [
    "#### **enterprise_country**\n",
    "##### - **enterprise :** - object: nombre de la empresa\n",
    "##### - **country_code :** - object: código del país\n",
    "##### - **city.lat :** - float64: Latitud\n",
    "##### - **city.lng :** - float64: Longitud\n",
    "##### - **city :** - object: Ciudad donde se encuentra la empresa\n",
    "##### - **country :** - object: País donde se encuentra la empresa\n",
    "\n"
   ]
  },
  {
   "attachments": {},
   "cell_type": "markdown",
   "metadata": {},
   "source": [
    "#### **enterprise**\n",
    "##### - **enterprise :** - object: nombre de la empresa."
   ]
  }
 ],
 "metadata": {
  "kernelspec": {
   "display_name": "Python 3",
   "language": "python",
   "name": "python3"
  },
  "language_info": {
   "name": "python",
   "version": "3.10.9 (tags/v3.10.9:1dd9be6, Dec  6 2022, 20:01:21) [MSC v.1934 64 bit (AMD64)]"
  },
  "orig_nbformat": 4,
  "vscode": {
   "interpreter": {
    "hash": "66eba28a75a64fbe1a9b9c30d27f7c856726c51cbbef86297708eae4ce175db0"
   }
  }
 },
 "nbformat": 4,
 "nbformat_minor": 2
}
